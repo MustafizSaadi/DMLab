{
  "nbformat": 4,
  "nbformat_minor": 0,
  "metadata": {
    "colab": {
      "name": "DataMiningAssignment1FPGrowth",
      "provenance": [],
      "collapsed_sections": [],
      "mount_file_id": "1981EFukvGLHcyM41MqVPwwU0z7ha1vT3",
      "authorship_tag": "ABX9TyP96Q0JIUrx4FTXNItns1hs",
      "include_colab_link": true
    },
    "kernelspec": {
      "name": "python3",
      "display_name": "Python 3"
    }
  },
  "cells": [
    {
      "cell_type": "markdown",
      "metadata": {
        "id": "view-in-github",
        "colab_type": "text"
      },
      "source": [
        "<a href=\"https://colab.research.google.com/github/MustafizSaadi/DMLab/blob/main/DataMiningAssignment1FPGrowth.ipynb\" target=\"_parent\"><img src=\"https://colab.research.google.com/assets/colab-badge.svg\" alt=\"Open In Colab\"/></a>"
      ]
    },
    {
      "cell_type": "code",
      "metadata": {
        "colab": {
          "base_uri": "https://localhost:8080/"
        },
        "id": "Cu9yB3BkFLlS",
        "outputId": "65965fb7-0ab7-4084-e7d7-1f17ecb18f2a"
      },
      "source": [
        "%cd /content/drive/My\\ Drive"
      ],
      "execution_count": null,
      "outputs": [
        {
          "output_type": "stream",
          "text": [
            "/content/drive/My Drive\n"
          ],
          "name": "stdout"
        }
      ]
    },
    {
      "cell_type": "code",
      "metadata": {
        "id": "OL5KAGQlFZqt"
      },
      "source": [
        "from sortedcontainers import SortedList, SortedSet, SortedDict \n",
        "import re"
      ],
      "execution_count": null,
      "outputs": []
    },
    {
      "cell_type": "code",
      "metadata": {
        "id": "Xv2KNq18A1HO"
      },
      "source": [
        "class Node:\n",
        "  def __init__(self, parent, val, sup):\n",
        "    self.parent = parent\n",
        "    self.val = val\n",
        "    self.child_dict = SortedDict()\n",
        "    self.child = []\n",
        "    self.next = None\n",
        "    self.sup = sup\n",
        "\n",
        "  def get_parent(self):\n",
        "    return self.parent\n",
        "\n",
        "  def get_val(self):\n",
        "    return self.val\n",
        "\n",
        "  def get_sup(self):\n",
        "    return self.sup\n",
        "\n",
        "  def set_sup(self):\n",
        "    self.sup = -1\n",
        "\n",
        "  def inc_sup(self, inc):\n",
        "    self.sup += inc\n",
        "\n",
        "  # def is_candidate(self):\n",
        "  #   return self.candidate\n",
        "\n",
        "  # def negate_candidate(self):\n",
        "  #   self.candidate = False\n",
        "\n",
        "  def insert_child(self, node):\n",
        "    cnt = len(self.child_dict)\n",
        "    self.child_dict[node.get_val()] = cnt + 1\n",
        "    self.child.append(node)\n",
        "    return cnt + 1\n",
        "\n",
        "  def delete_child(self, node):\n",
        "    # print(1)\n",
        "    idx = self.child_dict[node.get_val()]\n",
        "    del self.child_dict[node.get_val()]\n",
        "    for c in self.child_dict:\n",
        "      if c > node.get_val():\n",
        "        self.child_dict[c] -= 1\n",
        "    self.child.pop(idx-1)"
      ],
      "execution_count": null,
      "outputs": []
    },
    {
      "cell_type": "code",
      "metadata": {
        "id": "eHuue4XdrheM"
      },
      "source": [
        "class index_node:\n",
        "  def __init__(self, val, node):\n",
        "    self.val = val\n",
        "    self.node = node\n",
        "\n",
        "  def get_val(self):\n",
        "    return self.val\n",
        "\n",
        "  def get_node(self):\n",
        "    return self.node\n"
      ],
      "execution_count": null,
      "outputs": []
    },
    {
      "cell_type": "code",
      "metadata": {
        "id": "rnp6mgeRA4Du"
      },
      "source": [
        "class trie:\n",
        "  def __init__(self, root, candidate_itemset):\n",
        "    self.root = root\n",
        "    self.candidate_itemset = candidate_itemset\n",
        "\n",
        "    for itemset in candidate_itemset:\n",
        "      cur_node = root\n",
        "      count = itemset[len(itemset)-1]\n",
        "      itemset.remove(itemset[len(itemset)-1])\n",
        "      # print(itemset)\n",
        "      for item in itemset:\n",
        "        if item in cur_node.child_dict:\n",
        "          idx = cur_node.child_dict[item]\n",
        "          cur_node.child[idx-1].inc_sup(count)\n",
        "          cur_node = cur_node.child[idx-1]\n",
        "        else:\n",
        "          child_node = Node(cur_node, item, count)\n",
        "          idx = cur_node.insert_child(child_node)\n",
        "          cur_node = cur_node.child[idx-1]\n",
        "\n",
        "  def print_path(self, node, string):\n",
        "    if len(node.child) == 0 :\n",
        "      # print(string)\n",
        "      return\n",
        "    for child in node.child:\n",
        "      # print(child.get_val())\n",
        "      self.print_path(child, string + child.get_val())\n",
        "\n",
        "    print(len(node.child))\n",
        "\n",
        "  def print_sup_cnt(self, node):\n",
        "    if len(node.child) == 0 :\n",
        "      return\n",
        "    for child in node.child:\n",
        "      self.print_sup_cnt(child)\n",
        "      print(child.get_val()+\":\"+str(child.get_sup()))\n",
        "\n",
        "  def get_node(self, node, val):\n",
        "    if node.get_val() == val:\n",
        "      return node\n",
        "    if len(node.child) == 0:\n",
        "      return None\n",
        "    for child in node.child:\n",
        "      print(child.get_val())\n",
        "      temp_node = self.get_node(child, val)\n",
        "      if temp_node!= None:\n",
        "        return temp_node\n",
        "\n",
        "    return None\n",
        "\n",
        "  def get_all_nodes(self, node, val, bucket):\n",
        "    if node.get_val() == val:\n",
        "      bucket.append(node)\n",
        "      return\n",
        "    if len(node.child) == 0:\n",
        "      return \n",
        "    for child in node.child:\n",
        "      self.get_all_nodes(child, val, bucket)\n",
        "\n",
        "    return\n",
        "\n",
        "  def child_to_root(self, node, path_vals):\n",
        "    # if node == None:\n",
        "    #   return path_vals\n",
        "    if(node.get_parent() == None):\n",
        "      return path_vals\n",
        "    path_vals = self.child_to_root(node.get_parent(), path_vals)\n",
        "    path_vals.append(node.get_val())\n",
        "    return path_vals\n"
      ],
      "execution_count": null,
      "outputs": []
    },
    {
      "cell_type": "code",
      "metadata": {
        "id": "hFZxTqRKziP2"
      },
      "source": [
        "def swap(list, pos1, pos2):\n",
        "  temp = list[pos1]\n",
        "  list[pos1] = list[pos2]\n",
        "  list[pos2] = temp\n",
        "\n",
        "  return list"
      ],
      "execution_count": null,
      "outputs": []
    },
    {
      "cell_type": "code",
      "metadata": {
        "id": "g2pfWShTyMJD"
      },
      "source": [
        "def sort_by(itemset, itemset_1):\n",
        "  pos1 = 0\n",
        "  for i in itemset_1:\n",
        "    if i in itemset:\n",
        "      pos2 = itemset.index(i)\n",
        "      itemset = swap(itemset, pos1, pos2)\n",
        "      pos1 += 1\n",
        "\n",
        "  return itemset\n"
      ],
      "execution_count": null,
      "outputs": []
    },
    {
      "cell_type": "code",
      "metadata": {
        "id": "zcwuureTGFW_"
      },
      "source": [
        "f = open('Sample_Transactions','r')\n",
        "itemset_1 = []\n",
        "itemset_2 = []\n",
        "mp = dict()\n",
        "sorted_map = dict()\n",
        "answer = []\n",
        "transactions = []\n",
        "bucket = []\n",
        "itemset = []\n",
        "updated_transactions = []\n",
        "index_node_list = []\n",
        "sup_cnt = 3"
      ],
      "execution_count": null,
      "outputs": []
    },
    {
      "cell_type": "code",
      "metadata": {
        "colab": {
          "base_uri": "https://localhost:8080/"
        },
        "id": "TkIWe9pgqQ8q",
        "outputId": "7d4962f8-b627-43a6-c266-fb8be68828ac"
      },
      "source": [
        "for transaction in f:\n",
        "  actual = re.split('\\n',transaction)\n",
        "  actual = list(filter(None, actual))\n",
        "  # print(actual)\n",
        "  transactions.append(actual[0]+\",\"+str(1))\n",
        "print(transactions)"
      ],
      "execution_count": null,
      "outputs": [
        {
          "output_type": "stream",
          "text": [
            "['a,c,d,f,g,i,m,p,1', 'a,b,c,f,l,m,o,1', 'b,f,h,j,o,1', 'b,c,k,p,s,1', 'a,c,e,f,l,m,n,p,1']\n"
          ],
          "name": "stdout"
        }
      ]
    },
    {
      "cell_type": "code",
      "metadata": {
        "id": "2sSIZKqUGNkB"
      },
      "source": [
        "# for transaction in transactions:\n",
        "#   # transactions.append(transaction)\n",
        "#   itemset = re.split(',|\\n',transaction)\n",
        "#   # print(2)\n",
        "#   # print(itemset)\n",
        "#   count = int(itemset[len(itemset)-1])\n",
        "#   itemset.remove(itemset[len(itemset)-1])\n",
        "#   for item in itemset:\n",
        "#     if not item == '':\n",
        "#       if item in mp:\n",
        "#         mp[item] += count\n",
        "#       else:\n",
        "#         mp[item] = count\n",
        "\n",
        "  # print(transactions)"
      ],
      "execution_count": null,
      "outputs": []
    },
    {
      "cell_type": "code",
      "metadata": {
        "id": "hqBNnZPjlMYJ"
      },
      "source": [
        "# sorted_keys = reversed(sorted(mp, key = mp.get))\n",
        "# for i in sorted_keys:\n",
        "#   sorted_map[i] = mp[i]"
      ],
      "execution_count": null,
      "outputs": []
    },
    {
      "cell_type": "code",
      "metadata": {
        "id": "YWXwmC_KGRIK"
      },
      "source": [
        "# for item in sorted_map:\n",
        "#   if sorted_map[item] >= sup_cnt:\n",
        "#     itemset_1.append(item)\n",
        "\n",
        "# answer[1] = itemset_1\n",
        "# print(itemset_1)"
      ],
      "execution_count": null,
      "outputs": []
    },
    {
      "cell_type": "code",
      "metadata": {
        "id": "O8ijtNBOGW1J"
      },
      "source": [
        "# for transaction in transactions:\n",
        "#   itemset = re.split(',|\\n',transaction)\n",
        "#   # print(2)\n",
        "#   # print(itemset)\n",
        "#   i = 0\n",
        "#   while i < len(itemset):\n",
        "#     # print(i)\n",
        "#     # print(itemset)\n",
        "#     if not itemset[i] == '':\n",
        "#       if itemset[i] not in itemset_1:\n",
        "#         itemset.remove(itemset[i])\n",
        "#         i -= 1\n",
        "#     if itemset[i] == '':\n",
        "#       itemset.remove(itemset[i])\n",
        "#     i += 1\n",
        "#   #   print(i) \n",
        "#   # print(itemset)\n",
        "#   updated_transactions.append(sort_by(itemset, itemset_1))"
      ],
      "execution_count": null,
      "outputs": []
    },
    {
      "cell_type": "code",
      "metadata": {
        "id": "Y3EpXp-JJrSH"
      },
      "source": [
        "# print(updated_transactions)"
      ],
      "execution_count": null,
      "outputs": []
    },
    {
      "cell_type": "code",
      "metadata": {
        "id": "W-dlPGFVJwN3"
      },
      "source": [
        "# root = Node(None, None)\n",
        "# tree = trie(root, updated_transactions)"
      ],
      "execution_count": null,
      "outputs": []
    },
    {
      "cell_type": "code",
      "metadata": {
        "id": "pL4Kd_GnChvZ"
      },
      "source": [
        "# tree.print_path(root, \"\")"
      ],
      "execution_count": null,
      "outputs": []
    },
    {
      "cell_type": "code",
      "metadata": {
        "id": "ux6PKIfgDDKN"
      },
      "source": [
        "# tree.print_sup_cnt(root)"
      ],
      "execution_count": null,
      "outputs": []
    },
    {
      "cell_type": "code",
      "metadata": {
        "id": "ZRzXUPFyFLF5"
      },
      "source": [
        "# for item in reversed(itemset_1):\n",
        "#   bucket = []\n",
        "#   index_node_list.append(index_node(item, tree.get_node(root, item)))\n",
        "#   tree.get_all_nodes(root, item, bucket)\n",
        "#   for i in range(len(bucket)):\n",
        "#     if not i == len(bucket)-1:\n",
        "#       bucket[i].next = bucket[i+1] \n"
      ],
      "execution_count": null,
      "outputs": []
    },
    {
      "cell_type": "code",
      "metadata": {
        "id": "j7QuwsxE2lYO"
      },
      "source": [
        "# for index in index_node_list:\n",
        "#   node = index.get_node()\n",
        "#   while(node != None):\n",
        "#     print(node.get_val())\n",
        "#     node = node.next"
      ],
      "execution_count": null,
      "outputs": []
    },
    {
      "cell_type": "code",
      "metadata": {
        "id": "3FhI4T01YEQE"
      },
      "source": [
        "def create_trie(transactions):\n",
        "  itemset_1 = []\n",
        "  mp = dict()\n",
        "  sorted_map = dict()\n",
        "  bucket = []\n",
        "  updated_transactions = []\n",
        "  index_node_list = []\n",
        "  sup_cnt = 3\n",
        "  transaction_count = dict()\n",
        "  i = 0\n",
        "\n",
        "  # print(answer)\n",
        "\n",
        "  for transaction in transactions:\n",
        "    # transactions.append(transaction)\n",
        "    itemset = re.split(',|\\n',transaction)\n",
        "    # print(2)\n",
        "    # print(itemset)\n",
        "    transaction_count[i] = int(itemset[len(itemset)-1])\n",
        "    itemset.remove(itemset[len(itemset)-1])\n",
        "    for item in itemset:\n",
        "      if not item == '':\n",
        "        if item in mp:\n",
        "          mp[item] += transaction_count[i]\n",
        "        else:\n",
        "          mp[item] = transaction_count[i]\n",
        "\n",
        "    i += 1\n",
        "\n",
        "  sorted_keys = reversed(sorted(mp, key = mp.get))\n",
        "  for i in sorted_keys:\n",
        "    sorted_map[i] = mp[i]\n",
        "\n",
        "\n",
        "  for item in sorted_map:\n",
        "    if sorted_map[item] >= sup_cnt:\n",
        "      itemset_1.append(item)\n",
        "\n",
        "  i = 0\n",
        "\n",
        "  for transaction in transactions:\n",
        "    itemset = re.split(',|\\n',transaction)\n",
        "    # print(2)\n",
        "    # print(itemset)\n",
        "    j = 0\n",
        "    while j < len(itemset):\n",
        "      # print(i)\n",
        "      # print(itemset)\n",
        "      \n",
        "      if itemset[j] not in itemset_1:\n",
        "        itemset.remove(itemset[j])\n",
        "        j -= 1\n",
        "      \n",
        "      j += 1\n",
        "\n",
        "    itemset = sort_by(itemset, itemset_1)\n",
        "\n",
        "    itemset.append(transaction_count[i])\n",
        "    updated_transactions.append(itemset)\n",
        "    i += 1\n",
        "\n",
        "  # print(updated_transactions)\n",
        "\n",
        "  root = Node(None, None, -1)\n",
        "  tree = trie(root, updated_transactions)\n",
        "\n",
        "  # tree.print_path(root, \"\")\n",
        "\n",
        "  print(itemset_1)\n",
        "\n",
        "  for item in reversed(itemset_1):\n",
        "    bucket = []\n",
        "    index_node_list.append(index_node(item, tree.get_node(root, item)))\n",
        "    tree.get_all_nodes(root, item, bucket)\n",
        "    for i in range(len(bucket)):\n",
        "      if not i == len(bucket)-1:\n",
        "        bucket[i].next = bucket[i+1] \n",
        "\n",
        "  return tree, root, index_node_list\n",
        "\n"
      ],
      "execution_count": null,
      "outputs": []
    },
    {
      "cell_type": "code",
      "metadata": {
        "id": "TeLbOhcginYi"
      },
      "source": [
        "def fp_growth(transactions, answer, val):\n",
        "  itemset_1 = []\n",
        "  mp = dict()\n",
        "  sorted_map = dict()\n",
        "  bucket = []\n",
        "  updated_transactions = []\n",
        "  index_node_list = []\n",
        "  sup_cnt = 3\n",
        "  transaction_count = dict()\n",
        "  i = 0\n",
        "\n",
        "  # print(answer)\n",
        "\n",
        "  for transaction in transactions:\n",
        "    # transactions.append(transaction)\n",
        "    # itemset = re.split(',|\\n',transaction)\n",
        "    # print(2)\n",
        "    # print(itemset)\n",
        "    transaction_count[i] = int(transaction[len(transaction)-1])\n",
        "    transaction.remove(transaction[len(transaction)-1])\n",
        "    for item in transaction:\n",
        "      if not item == '':\n",
        "        if item in mp:\n",
        "          mp[item] += transaction_count[i]\n",
        "        else:\n",
        "          mp[item] = transaction_count[i]\n",
        "\n",
        "    i += 1\n",
        "\n",
        "  # sorted_keys = reversed(sorted(mp, key = mp.get))\n",
        "  # for i in sorted_keys:\n",
        "  #   sorted_map[i] = mp[i]\n",
        "\n",
        "\n",
        "  for item in mp:\n",
        "    if mp[item] >= sup_cnt:\n",
        "      itemset_1.append(item)\n",
        "\n",
        "  i = 0\n",
        "\n",
        "  for transaction in transactions:\n",
        "    # itemset = re.split(',|\\n',transaction)\n",
        "    # print(2)\n",
        "    # print(itemset)\n",
        "    j = 0\n",
        "    while j < len(transaction):\n",
        "      # print(i)\n",
        "      # print(itemset)\n",
        "      \n",
        "      if transaction[j] not in itemset_1:\n",
        "        transaction.remove(transaction[j])\n",
        "        j -= 1\n",
        "      \n",
        "      j += 1\n",
        "\n",
        "    # itemset = sort_by(itemset, itemset_1)\n",
        "\n",
        "    transaction.append(transaction_count[i])\n",
        "    updated_transactions.append(transaction)\n",
        "    i += 1\n",
        "\n",
        "  # print(updated_transactions)\n",
        "\n",
        "  root = Node(None, None, -1)\n",
        "  tree = trie(root, updated_transactions)\n",
        "\n",
        "  # tree.print_path(root, \"\")\n",
        "\n",
        "  print(itemset_1)\n",
        "\n",
        "  for item in reversed(itemset_1):\n",
        "    bucket = []\n",
        "    index_node_list.append(index_node(item, tree.get_node(root, item)))\n",
        "    tree.get_all_nodes(root, item, bucket)\n",
        "    for i in range(len(bucket)):\n",
        "      if not i == len(bucket)-1:\n",
        "        bucket[i].next = bucket[i+1] \n",
        "\n",
        "  if len(index_node_list) == 0:\n",
        "    return answer\n",
        "\n",
        "  for index in index_node_list:\n",
        "    new_transactions = []\n",
        "    node = index.get_node()\n",
        "    item = node.get_val()\n",
        "    answer.append(val+item)\n",
        "    while node != None:\n",
        "      # print(node.get_val())\n",
        "      sup_cnt = node.get_sup()\n",
        "      temp_list = []\n",
        "      temp_list = tree.child_to_root(node.get_parent(), temp_list)\n",
        "      if(len(temp_list) == 0):\n",
        "        return answer\n",
        "      temp_list.append(sup_cnt)\n",
        "      new_transactions.append(temp_list)\n",
        "      node = node.next\n",
        "  \n",
        "\n",
        "    print(new_transactions)\n",
        "\n",
        "    answer = fp_growth(new_transactions, answer, val+item)\n",
        "\n",
        "\n",
        "  return answer\n",
        "\n",
        "\n",
        "\n",
        "  \n"
      ],
      "execution_count": null,
      "outputs": []
    },
    {
      "cell_type": "code",
      "metadata": {
        "colab": {
          "base_uri": "https://localhost:8080/"
        },
        "id": "pGjqxINo-1c0",
        "outputId": "98bca8af-2e8b-4398-f34a-5b4e4deb40bd"
      },
      "source": [
        "tree, root, index_node_list = create_trie(transactions)\n",
        "\n",
        "# for index in index_node_list:\n",
        "#   node = index.get_node()\n",
        "#   while(node != None):\n",
        "#     print(node.get_val())\n",
        "#     node = node.next\n",
        "\n",
        "# answer = fp_growth(transactions, answer, \"\")\n",
        "answer = []\n",
        "\n",
        "for index in index_node_list:\n",
        "    new_transactions = []\n",
        "    node = index.get_node()\n",
        "    item = node.get_val()\n",
        "    answer.append(item)\n",
        "    while node != None:\n",
        "      # print(node.get_val())\n",
        "      sup_cnt = node.get_sup()\n",
        "      temp_list = []\n",
        "      temp_list = tree.child_to_root(node.get_parent(), temp_list)\n",
        "      if(len(temp_list) == 0):\n",
        "        break\n",
        "      temp_list.append(sup_cnt)\n",
        "      new_transactions.append(temp_list)\n",
        "      node = node.next\n",
        "  \n",
        "\n",
        "    print(new_transactions)\n",
        "\n",
        "    answer = fp_growth(new_transactions, answer, item)\n",
        "\n",
        "print(answer)"
      ],
      "execution_count": null,
      "outputs": [
        {
          "output_type": "stream",
          "text": [
            "['f', 'c', 'b', 'p', 'm', 'a']\n",
            "f\n",
            "c\n",
            "p\n",
            "m\n",
            "a\n",
            "f\n",
            "c\n",
            "p\n",
            "m\n",
            "f\n",
            "c\n",
            "p\n",
            "f\n",
            "c\n",
            "p\n",
            "m\n",
            "a\n",
            "b\n",
            "f\n",
            "c\n",
            "f\n",
            "[['f', 'c', 'p', 'm', 2], ['f', 'c', 'b', 'm', 1]]\n",
            "['f', 'c', 'm']\n",
            "f\n",
            "c\n",
            "m\n",
            "f\n",
            "c\n",
            "f\n",
            "[['f', 'c', 3]]\n",
            "['f', 'c']\n",
            "f\n",
            "c\n",
            "f\n",
            "[['f', 3]]\n",
            "['f']\n",
            "f\n",
            "[['f', 3]]\n",
            "['f']\n",
            "f\n",
            "[['f', 'c', 'p', 2], ['f', 'c', 'b', 1]]\n",
            "['f', 'c']\n",
            "f\n",
            "c\n",
            "f\n",
            "[['f', 3]]\n",
            "['f']\n",
            "f\n",
            "[['f', 'c', 2], ['c', 'b', 1]]\n",
            "['c']\n",
            "c\n",
            "[['f', 'c', 1], ['f', 1], ['c', 1]]\n",
            "[]\n",
            "[['f', 3]]\n",
            "['f']\n",
            "f\n",
            "[]\n",
            "[]\n",
            "['a', 'am', 'amc', 'amcf', 'amf', 'ac', 'acf', 'af', 'm', 'mc', 'mcf', 'mf', 'p', 'pc', 'b', 'c', 'cf', 'f']\n"
          ],
          "name": "stdout"
        }
      ]
    },
    {
      "cell_type": "code",
      "metadata": {
        "id": "2AOwpXWQ_1-T"
      },
      "source": [
        ""
      ],
      "execution_count": null,
      "outputs": []
    }
  ]
}
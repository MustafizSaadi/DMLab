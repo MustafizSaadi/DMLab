{
  "nbformat": 4,
  "nbformat_minor": 0,
  "metadata": {
    "colab": {
      "name": "K-medoids.ipynb",
      "provenance": [],
      "mount_file_id": "1uB88QwxF5ET0KOEoPNDi7yNrQAvhjuyR",
      "authorship_tag": "ABX9TyNmfTtAk4UMnDzVsPoU+klU",
      "include_colab_link": true
    },
    "kernelspec": {
      "name": "python3",
      "display_name": "Python 3"
    }
  },
  "cells": [
    {
      "cell_type": "markdown",
      "metadata": {
        "id": "view-in-github",
        "colab_type": "text"
      },
      "source": [
        "<a href=\"https://colab.research.google.com/github/MustafizSaadi/DMLab/blob/main/K_medoids.ipynb\" target=\"_parent\"><img src=\"https://colab.research.google.com/assets/colab-badge.svg\" alt=\"Open In Colab\"/></a>"
      ]
    },
    {
      "cell_type": "code",
      "metadata": {
        "id": "YnDmLWUcrJVf"
      },
      "source": [
        "import numpy as np\n",
        "import gzip\n",
        "from io import StringIO\n",
        "import re\n",
        "import sys\n",
        "import math\n",
        "import statistics \n",
        "import random\n",
        "import matplotlib.pyplot as plt\n",
        "import pandas as pd\n",
        "from sklearn.metrics import silhouette_samples, silhouette_score\n",
        "from scipy import stats"
      ],
      "execution_count": null,
      "outputs": []
    },
    {
      "cell_type": "code",
      "metadata": {
        "id": "lA-KXKkErnXX"
      },
      "source": [
        "# cd /content/drive/My\\ Drive"
      ],
      "execution_count": null,
      "outputs": []
    },
    {
      "cell_type": "code",
      "metadata": {
        "id": "OAgStAm5rpWW"
      },
      "source": [
        "def load_dataset(file_name, threshold):\n",
        "  attribute_dictionary = dict()\n",
        "  max_dictionary = dict()\n",
        "  min_dictionary = dict()\n",
        "  category_values = dict()\n",
        "  df = pd.read_csv(file_name, header = None)\n",
        "\n",
        "  df = df.astype(\"float32\")\n",
        "  print(df.dtypes)\n",
        "\n",
        "  full_table = df.to_numpy()\n",
        "  print(full_table)\n",
        "\n",
        "  for i in range(full_table.shape[1]):\n",
        "    print(full_table[:,i])\n",
        "    elements = np.unique(full_table[:,i])\n",
        "    ratio =  len(elements)/full_table.shape[0]\n",
        "\n",
        "    if ratio >= threshold:\n",
        "      attribute_dictionary[i] = \"numeric\"\n",
        "      max_dictionary[i] = max(elements)\n",
        "      min_dictionary[i] = min(elements)\n",
        "    else:\n",
        "      attribute_dictionary[i] = \"category\"\n",
        "      category_values[i] = elements\n",
        "  \n",
        "  print(attribute_dictionary)\n",
        "  \n",
        "  return attribute_dictionary, max_dictionary, min_dictionary, category_values, full_table"
      ],
      "execution_count": null,
      "outputs": []
    },
    {
      "cell_type": "code",
      "metadata": {
        "id": "wH0ULGLgh_qe"
      },
      "source": [
        "def replace_nan_with_most_frequent_category(df, column):\n",
        "  most_frequent_category = df.iloc[:,column].mode()[0]\n",
        "  print(most_frequent_category)\n",
        "  df.iloc[:,column].fillna(most_frequent_category, inplace = True)\n",
        "  print(df.iloc[:,column])\n",
        "  print(\"within replace\")\n",
        "  return df"
      ],
      "execution_count": null,
      "outputs": []
    },
    {
      "cell_type": "code",
      "metadata": {
        "id": "EqjX5Qbie6nv"
      },
      "source": [
        "def load_dataset_sponge(file_name, threshold):\n",
        "  attribute_dictionary = dict()\n",
        "  max_dictionary = dict()\n",
        "  min_dictionary = dict()\n",
        "  category_values = dict()\n",
        "  df = pd.read_csv(file_name, header = None)\n",
        "  \n",
        "  df = df.drop(df.columns[0], axis = 1)\n",
        "  df = df.replace('?', np.nan)\n",
        "  df = df.astype(\"object\")\n",
        "  print(\"dataframe type\", df.dtypes)\n",
        "  print(\"start\")\n",
        "  \n",
        "  for i in range(df.shape[1]):\n",
        "    if df.iloc[:,i].isnull().values.any():\n",
        "      print(1)\n",
        "      df = replace_nan_with_most_frequent_category(df, i)\n",
        "    # print(df.columns[i])\n",
        "\n",
        "  print(df.shape)\n",
        "  full_table = df.to_numpy()\n",
        "  print(full_table.shape[1])\n",
        "\n",
        "  for i in range(full_table.shape[1]):\n",
        "    print(full_table[:,i])\n",
        "    elements = np.unique(full_table[:,i])\n",
        "    ratio =  len(elements)/full_table.shape[0]\n",
        "\n",
        "    if ratio >= threshold:\n",
        "      attribute_dictionary[i] = \"numeric\"\n",
        "      max_dictionary[i] = max(elements)\n",
        "      min_dictionary[i] = min(elements)\n",
        "    else:\n",
        "      attribute_dictionary[i] = \"category\"\n",
        "      category_values[i] = elements\n",
        "  \n",
        "  print(attribute_dictionary)\n",
        "  \n",
        "  return attribute_dictionary,  max_dictionary, min_dictionary, category_values, full_table"
      ],
      "execution_count": null,
      "outputs": []
    },
    {
      "cell_type": "code",
      "metadata": {
        "id": "mxTf2qBLH5qv"
      },
      "source": [
        "def distance(attribute_dictionary,  max_dictionary, min_dictionary, data, mean):\n",
        "  dist = 0\n",
        "  col = 0\n",
        "  for i,j in zip(data, mean):\n",
        "    if attribute_dictionary[col] == \"numeric\":\n",
        "      dist += abs(float(i)-float(j))/(max_dictionary[col] - min_dictionary[col])\n",
        "    elif attribute_dictionary[col] == \"category\":\n",
        "      if i != j:\n",
        "        dist += 1\n",
        "    col += 1\n",
        "  # print(\"distance\", dist/col)\n",
        "  return dist/col"
      ],
      "execution_count": null,
      "outputs": []
    },
    {
      "cell_type": "code",
      "metadata": {
        "id": "b1-4FbL85ZQO"
      },
      "source": [
        "def calculate_pairwise_distance(sillhoutte_dataset, attribute_dictionary, max_dictionary, min_dictionary):\n",
        "  row = sillhoutte_dataset.shape[0]\n",
        "  pairwise_distance = np.zeros((row,row))\n",
        "\n",
        "  for i in range(row):\n",
        "    for j in range(i+1, row):\n",
        "      pairwise_distance[i][j] = distance(attribute_dictionary, max_dictionary, min_dictionary, sillhoutte_dataset[i], sillhoutte_dataset[j])\n",
        "      pairwise_distance[j][i] = pairwise_distance[i][j]\n",
        "\n",
        "  return pairwise_distance\n",
        "  "
      ],
      "execution_count": null,
      "outputs": []
    },
    {
      "cell_type": "code",
      "metadata": {
        "id": "5ncXP69qc1mR"
      },
      "source": [
        "def find_closest_median(attribute_dictionary,  max_dictionary, min_dictionary, data, database, means):\n",
        "  idx = -1\n",
        "  min = sys.maxsize\n",
        "\n",
        "  for mean_idx in means:\n",
        "    # mean = means[i]\n",
        "    dist = distance(attribute_dictionary,  max_dictionary, min_dictionary, data, database[mean_idx,:])\n",
        "\n",
        "    if dist < min:\n",
        "      min = dist\n",
        "      idx = mean_idx\n",
        "\n",
        "  return min, idx"
      ],
      "execution_count": null,
      "outputs": []
    },
    {
      "cell_type": "code",
      "metadata": {
        "id": "whhr-n3s1gcf"
      },
      "source": [
        "def Kmedoid(attribute_dictionary,  max_dictionary, min_dictionary, database, means):\n",
        "  clusters = dict()\n",
        "\n",
        "  while True:\n",
        "    cur_cost = 0\n",
        "    flag = False\n",
        "\n",
        "    print(\"means\", means)\n",
        "\n",
        "    for i in range(len(means)):\n",
        "      clusters[i] = []\n",
        "  \n",
        "    for data in database:\n",
        "  \n",
        "      min, idx = find_closest_median(attribute_dictionary,  max_dictionary, min_dictionary, data, database, means)\n",
        "\n",
        "      cur_cost += min\n",
        "      clusters[means.index(idx)].append(data)\n",
        "\n",
        "    for i in range(len(means)):\n",
        "      new_means = []\n",
        "      checked = []\n",
        "      for mean_idx in means:\n",
        "        new_means.append(mean_idx)\n",
        "        checked.append(mean_idx)\n",
        "\n",
        "      while True:\n",
        "        if len(checked) == database.shape[0]:\n",
        "          break\n",
        "\n",
        "        non_representative_point = random.randint(0, database.shape[0]-1)\n",
        "\n",
        "        if non_representative_point not in checked:\n",
        "          checked.append(non_representative_point)\n",
        "\n",
        "          new_means[i] = non_representative_point\n",
        "\n",
        "          new_cost = 0\n",
        "\n",
        "          for data in database:\n",
        "        \n",
        "            min, _ = find_closest_median(attribute_dictionary,  max_dictionary, min_dictionary, data, database, new_means)\n",
        "\n",
        "            new_cost += min\n",
        "          \n",
        "          if new_cost < cur_cost:\n",
        "            cur_cost = new_cost\n",
        "            flag = True\n",
        "            means[i] = new_means[i]\n",
        "            print(means)\n",
        "            break\n",
        "\n",
        "    if not flag:\n",
        "      break\n",
        "\n",
        "  return cur_cost, means, clusters\n",
        "          \n"
      ],
      "execution_count": null,
      "outputs": []
    },
    {
      "cell_type": "code",
      "metadata": {
        "colab": {
          "base_uri": "https://localhost:8080/"
        },
        "id": "o9OFt7DBsQvv",
        "outputId": "908d115e-5465-45ce-e51f-b1202c526349"
      },
      "source": [
        "threshold = 0.15\n",
        "# attribute_dictionary,  max_dictionary, min_dictionary, category_values, database = load_dataset('unlabeled data', threshold)\n",
        "# attribute_dictionary,  max_dictionary, min_dictionary, category_values, database = load_dataset_sponge('sponge.csv', threshold)\n",
        "attribute_dictionary, max_dictionary, min_dictionary, category_values, database = load_dataset('QCM3.csv', threshold)\n",
        "# attribute_dictionary, max_dictionary, min_dictionary, category_values, database = load_dataset('buddymove_holidayiq.csv', threshold)\n",
        "# print(category_values)\n",
        "# max_k = np.linspace(1, 10, num = 10)\n",
        "# # np.linspace(1, 10, num = 10)\n",
        "# X = []\n",
        "# Y = []\n",
        "# # np.zeros((k, database.shape[1]))\n",
        "iterations = 3\n",
        "# for k in max_k:\n",
        "#   print(\"******* \", k)\n",
        "#   best_means = []\n",
        "#   best_err = sys.maxsize\n",
        "#   best_cluster = dict()\n",
        "#   # min_err = sys.maxsize\n",
        "#   for it in range(iterations):\n",
        "#     means = []\n",
        "#     err = 0\n",
        "#     clusters = dict()\n",
        "#     np.random.shuffle(database)\n",
        "#     for i in range(int(k)):\n",
        "#       # temp = []\n",
        "#       # for j in range(database.shape[1]):\n",
        "#       #   temp.append(database[i][j])\n",
        "#       means.append(i)\n",
        "#     err, means, clusters = Kmedoid(attribute_dictionary,  max_dictionary, min_dictionary, database, means)\n",
        "#     if err < best_err:\n",
        "#       best_means = means\n",
        "#       best_err = err\n",
        "#       best_cluster = clusters\n",
        "    \n",
        "#   print(\"means\", best_means)\n",
        "#   print(k, best_err)\n",
        "#   X.append(k)\n",
        "#   Y.append(best_err)\n",
        "# # means = np.array(means)\n",
        "\n",
        "# plt.plot(X, Y)\n",
        "# plt.show()"
      ],
      "execution_count": null,
      "outputs": [
        {
          "output_type": "stream",
          "text": [
            "0    float32\n",
            "1    float32\n",
            "2    float32\n",
            "3    float32\n",
            "4    float32\n",
            "5    float32\n",
            "6    float32\n",
            "7    float32\n",
            "8    float32\n",
            "9    float32\n",
            "dtype: object\n",
            "[[ -10.06  -10.62  -14.43  -18.31  -24.64  -30.56  -38.62  -45.59  -54.89\n",
            "   -62.28]\n",
            " [  -9.69  -10.86  -16.73  -21.75  -28.47  -35.83  -43.65  -52.43  -61.92\n",
            "   -71.27]\n",
            " [ -12.07  -14.28  -21.54  -27.92  -35.19  -43.94  -52.04  -62.49  -71.97\n",
            "   -83.1 ]\n",
            " [ -14.21  -17.41  -25.91  -33.36  -41.29  -51.27  -59.94  -71.55  -81.51\n",
            "   -93.83]\n",
            " [ -16.57  -20.35  -29.97  -37.84  -47.03  -57.29  -67.13  -78.96  -90.01\n",
            "  -102.65]\n",
            " [ -75.61  -64.1  -122.08 -102.17 -174.79 -145.5  -214.69 -177.3  -250.83\n",
            "  -207.99]\n",
            " [ -76.28  -64.53 -123.4  -103.06 -174.74 -144.98 -206.75 -170.68 -240.14\n",
            "  -200.05]\n",
            " [ -76.96  -65.37 -124.5  -103.87 -169.93 -140.56 -200.89 -165.88 -232.82\n",
            "  -194.7 ]\n",
            " [ -78.29  -66.49 -125.78 -104.77 -165.42 -136.17 -196.1  -161.99 -226.89\n",
            "  -189.57]\n",
            " [ -79.62  -66.85 -126.61 -104.38 -162.73 -133.26 -194.87 -160.68 -221.33\n",
            "  -183.81]\n",
            " [ -88.03  -76.88 -128.47 -124.36 -177.13 -175.21 -220.91 -218.92 -274.27\n",
            "  -268.55]\n",
            " [ -91.08  -79.42 -131.32 -125.91 -182.66 -178.76 -224.73 -221.49 -272.67\n",
            "  -266.15]\n",
            " [ -92.08  -80.56 -132.5  -126.99 -183.33 -179.25 -222.6  -219.52 -264.81\n",
            "  -259.99]\n",
            " [ -92.58  -81.3  -133.54 -127.76 -182.34 -177.94 -217.73 -215.09 -255.14\n",
            "  -251.88]\n",
            " [ -93.29  -81.88 -133.96 -127.68 -178.29 -173.59 -211.85 -209.7  -248.13\n",
            "  -245.84]\n",
            " [ -68.84  -78.    -97.04 -107.38 -128.66 -138.16 -152.78 -159.83 -185.98\n",
            "  -191.71]\n",
            " [ -67.95  -76.82  -95.08 -105.21 -123.29 -132.91 -146.27 -153.75 -176.94\n",
            "  -184.07]\n",
            " [ -67.29  -75.99  -94.75 -104.77 -118.7  -128.29 -142.31 -150.07 -172.51\n",
            "  -180.33]\n",
            " [ -66.38  -74.97  -93.75 -103.66 -114.96 -124.23 -139.18 -147.22 -170.52\n",
            "  -178.7 ]\n",
            " [ -66.12  -74.25  -93.09 -102.5  -111.78 -120.95 -136.83 -145.02 -168.05\n",
            "  -175.16]\n",
            " [ -65.56  -71.66 -100.34 -109.75 -148.72 -157.43 -208.83 -212.29 -268.57\n",
            "  -268.95]\n",
            " [ -65.95  -72.17 -101.82 -111.37 -151.04 -159.59 -211.86 -214.85 -269.62\n",
            "  -270.97]\n",
            " [ -66.42  -72.72 -103.32 -112.74 -152.73 -161.12 -215.4  -217.42 -269.84\n",
            "  -271.73]\n",
            " [ -66.51  -73.04 -104.47 -113.72 -154.3  -162.43 -216.46 -217.99 -267.13\n",
            "  -269.45]\n",
            " [ -66.68  -73.19 -105.21 -113.27 -154.42 -161.48 -215.52 -216.68 -262.01\n",
            "  -263.28]]\n",
            "[-10.06  -9.69 -12.07 -14.21 -16.57 -75.61 -76.28 -76.96 -78.29 -79.62\n",
            " -88.03 -91.08 -92.08 -92.58 -93.29 -68.84 -67.95 -67.29 -66.38 -66.12\n",
            " -65.56 -65.95 -66.42 -66.51 -66.68]\n",
            "[-10.62 -10.86 -14.28 -17.41 -20.35 -64.1  -64.53 -65.37 -66.49 -66.85\n",
            " -76.88 -79.42 -80.56 -81.3  -81.88 -78.   -76.82 -75.99 -74.97 -74.25\n",
            " -71.66 -72.17 -72.72 -73.04 -73.19]\n",
            "[ -14.43  -16.73  -21.54  -25.91  -29.97 -122.08 -123.4  -124.5  -125.78\n",
            " -126.61 -128.47 -131.32 -132.5  -133.54 -133.96  -97.04  -95.08  -94.75\n",
            "  -93.75  -93.09 -100.34 -101.82 -103.32 -104.47 -105.21]\n",
            "[ -18.31  -21.75  -27.92  -33.36  -37.84 -102.17 -103.06 -103.87 -104.77\n",
            " -104.38 -124.36 -125.91 -126.99 -127.76 -127.68 -107.38 -105.21 -104.77\n",
            " -103.66 -102.5  -109.75 -111.37 -112.74 -113.72 -113.27]\n",
            "[ -24.64  -28.47  -35.19  -41.29  -47.03 -174.79 -174.74 -169.93 -165.42\n",
            " -162.73 -177.13 -182.66 -183.33 -182.34 -178.29 -128.66 -123.29 -118.7\n",
            " -114.96 -111.78 -148.72 -151.04 -152.73 -154.3  -154.42]\n",
            "[ -30.56  -35.83  -43.94  -51.27  -57.29 -145.5  -144.98 -140.56 -136.17\n",
            " -133.26 -175.21 -178.76 -179.25 -177.94 -173.59 -138.16 -132.91 -128.29\n",
            " -124.23 -120.95 -157.43 -159.59 -161.12 -162.43 -161.48]\n",
            "[ -38.62  -43.65  -52.04  -59.94  -67.13 -214.69 -206.75 -200.89 -196.1\n",
            " -194.87 -220.91 -224.73 -222.6  -217.73 -211.85 -152.78 -146.27 -142.31\n",
            " -139.18 -136.83 -208.83 -211.86 -215.4  -216.46 -215.52]\n",
            "[ -45.59  -52.43  -62.49  -71.55  -78.96 -177.3  -170.68 -165.88 -161.99\n",
            " -160.68 -218.92 -221.49 -219.52 -215.09 -209.7  -159.83 -153.75 -150.07\n",
            " -147.22 -145.02 -212.29 -214.85 -217.42 -217.99 -216.68]\n",
            "[ -54.89  -61.92  -71.97  -81.51  -90.01 -250.83 -240.14 -232.82 -226.89\n",
            " -221.33 -274.27 -272.67 -264.81 -255.14 -248.13 -185.98 -176.94 -172.51\n",
            " -170.52 -168.05 -268.57 -269.62 -269.84 -267.13 -262.01]\n",
            "[ -62.28  -71.27  -83.1   -93.83 -102.65 -207.99 -200.05 -194.7  -189.57\n",
            " -183.81 -268.55 -266.15 -259.99 -251.88 -245.84 -191.71 -184.07 -180.33\n",
            " -178.7  -175.16 -268.95 -270.97 -271.73 -269.45 -263.28]\n",
            "{0: 'numeric', 1: 'numeric', 2: 'numeric', 3: 'numeric', 4: 'numeric', 5: 'numeric', 6: 'numeric', 7: 'numeric', 8: 'numeric', 9: 'numeric'}\n"
          ],
          "name": "stdout"
        }
      ]
    },
    {
      "cell_type": "code",
      "metadata": {
        "colab": {
          "base_uri": "https://localhost:8080/"
        },
        "id": "LB_G0eNlrZVd",
        "outputId": "70dafbfb-7ce6-47b8-ffb7-2fb087ad9e8e"
      },
      "source": [
        "best_means = []\n",
        "best_err = sys.maxsize\n",
        "best_cluster = dict()\n",
        "# min_err = sys.maxsize\n",
        "k = 3\n",
        "err = 0\n",
        "for it in range(iterations):\n",
        "  means = []\n",
        "  # err = 0\n",
        "  clusters = dict()\n",
        "  np.random.shuffle(database)\n",
        "  for i in range(k):\n",
        "    # temp = []\n",
        "    # for j in range(database.shape[1]):\n",
        "    #   temp.append(database[i][j])\n",
        "    means.append(i)\n",
        "  temp_err, means, clusters = Kmedoid(attribute_dictionary,  max_dictionary, min_dictionary, database, means)\n",
        "  err += temp_err\n",
        "  # if err < best_err:\n",
        "  #   best_means = means\n",
        "  #   best_err = err\n",
        "  #   best_cluster = clusters\n",
        "  #   sillhoutte_dataset = []\n",
        "  #   sillhoutte_label = []\n",
        "  #   for cluster in best_cluster:\n",
        "  #     for data in best_cluster[cluster]:\n",
        "  #       sillhoutte_dataset.append(data)\n",
        "  #       sillhoutte_label.append(cluster)\n",
        "\n",
        "  #   sillhoutte_dataset = np.array(sillhoutte_dataset)\n",
        "\n",
        "  #   pairwise_distance = calculate_pairwise_distance(sillhoutte_dataset, attribute_dictionary, max_dictionary, min_dictionary)\n",
        "\n",
        "  #   # print(pairwise_distance)\n",
        "\n",
        "  #   silhouette_avg = silhouette_score(pairwise_distance, sillhoutte_label, metric=\"precomputed\")\n",
        "  #   print(\"Sillhoutte score ->\", silhouette_avg)\n",
        "  #   print(\"Best error ->\", best_err)\n",
        "\n",
        "  print(\"Best error ->\", err/iterations)"
      ],
      "execution_count": null,
      "outputs": [
        {
          "output_type": "stream",
          "text": [
            "means [0, 1, 2]\n",
            "[4, 1, 2]\n",
            "[4, 14, 2]\n",
            "[4, 14, 1]\n",
            "means [4, 14, 1]\n",
            "[24, 14, 1]\n",
            "[24, 9, 1]\n",
            "[24, 9, 5]\n",
            "means [24, 9, 5]\n",
            "[3, 9, 5]\n",
            "[3, 6, 5]\n",
            "[3, 6, 15]\n",
            "means [3, 6, 15]\n",
            "[18, 6, 15]\n",
            "means [18, 6, 15]\n",
            "Best error -> 0.5650564497744625\n",
            "means [0, 1, 2]\n",
            "[21, 1, 2]\n",
            "[21, 17, 2]\n",
            "[21, 17, 4]\n",
            "means [21, 17, 4]\n",
            "[5, 17, 4]\n",
            "[5, 17, 0]\n",
            "means [5, 17, 0]\n",
            "[11, 17, 0]\n",
            "means [11, 17, 0]\n",
            "[13, 17, 0]\n",
            "means [13, 17, 0]\n",
            "Best error -> 1.1301128995489251\n",
            "means [0, 1, 2]\n",
            "[6, 1, 2]\n",
            "[6, 7, 2]\n",
            "[6, 7, 11]\n",
            "means [6, 7, 11]\n",
            "[22, 7, 11]\n",
            "[22, 13, 11]\n",
            "means [22, 13, 11]\n",
            "[12, 13, 11]\n",
            "means [12, 13, 11]\n",
            "Best error -> 1.6951693493233877\n"
          ],
          "name": "stdout"
        }
      ]
    },
    {
      "cell_type": "code",
      "metadata": {
        "colab": {
          "base_uri": "https://localhost:8080/"
        },
        "id": "TlPIvar82b95",
        "outputId": "5e9ac2ee-4aab-4eae-f55e-114b4e59b808"
      },
      "source": [
        "print(best_means)"
      ],
      "execution_count": null,
      "outputs": [
        {
          "output_type": "stream",
          "text": [
            "[]\n"
          ],
          "name": "stdout"
        }
      ]
    },
    {
      "cell_type": "code",
      "metadata": {
        "id": "jPV8juYXIq3Z"
      },
      "source": [
        "for ind in best_cluster:\n",
        "  print(ind, len(best_cluster[ind]))"
      ],
      "execution_count": null,
      "outputs": []
    },
    {
      "cell_type": "code",
      "metadata": {
        "id": "7nOzMEhAIyc5",
        "colab": {
          "base_uri": "https://localhost:8080/"
        },
        "outputId": "84ff0be6-9167-439c-9898-052df1da07d9"
      },
      "source": [
        "l = [0,1,2,'hi']\n",
        "arr = np.array(l)\n",
        "arr[0] = float(arr[0]) + 11\n",
        "print(arr)"
      ],
      "execution_count": null,
      "outputs": [
        {
          "output_type": "stream",
          "text": [
            "['11.0' '1' '2' 'hi']\n"
          ],
          "name": "stdout"
        }
      ]
    },
    {
      "cell_type": "code",
      "metadata": {
        "id": "x7BLWIGTHb0x",
        "colab": {
          "base_uri": "https://localhost:8080/"
        },
        "outputId": "a50d2611-2951-4e3f-b1f0-7d491f06ec3c"
      },
      "source": [
        "print(best_err)"
      ],
      "execution_count": null,
      "outputs": [
        {
          "output_type": "stream",
          "text": [
            "9223372036854775807\n"
          ],
          "name": "stdout"
        }
      ]
    },
    {
      "cell_type": "code",
      "metadata": {
        "id": "uuF1dcwB_wZ_"
      },
      "source": [
        ""
      ],
      "execution_count": null,
      "outputs": []
    }
  ]
}
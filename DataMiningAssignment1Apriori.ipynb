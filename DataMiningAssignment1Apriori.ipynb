{
  "nbformat": 4,
  "nbformat_minor": 0,
  "metadata": {
    "colab": {
      "name": "DataMiningAssignment1Apriori",
      "provenance": [],
      "collapsed_sections": [],
      "mount_file_id": "1BTixOCwV6pKiXFKt69yv-PCJzqxVX4GP",
      "authorship_tag": "ABX9TyNrtHwysr+RweFB3YuCF4bv",
      "include_colab_link": true
    },
    "kernelspec": {
      "name": "python3",
      "display_name": "Python 3"
    }
  },
  "cells": [
    {
      "cell_type": "markdown",
      "metadata": {
        "id": "view-in-github",
        "colab_type": "text"
      },
      "source": [
        "<a href=\"https://colab.research.google.com/github/MustafizSaadi/DMLab/blob/main/DataMiningAssignment1Apriori.ipynb\" target=\"_parent\"><img src=\"https://colab.research.google.com/assets/colab-badge.svg\" alt=\"Open In Colab\"/></a>"
      ]
    },
    {
      "cell_type": "code",
      "metadata": {
        "colab": {
          "base_uri": "https://localhost:8080/"
        },
        "id": "ehd7uXsqiDp6",
        "outputId": "3dd19d06-2189-4e1f-f73b-3dd334430cce"
      },
      "source": [
        "%cd /content/drive/My\\ Drive"
      ],
      "execution_count": null,
      "outputs": [
        {
          "output_type": "stream",
          "text": [
            "/content/drive/My Drive\n"
          ],
          "name": "stdout"
        }
      ]
    },
    {
      "cell_type": "code",
      "metadata": {
        "id": "BzFGzqWpwbC5"
      },
      "source": [
        "from sortedcontainers import SortedList, SortedSet, SortedDict \n",
        "import re"
      ],
      "execution_count": null,
      "outputs": []
    },
    {
      "cell_type": "code",
      "metadata": {
        "id": "FzVqYBNpO3OK"
      },
      "source": [
        "class Node:\n",
        "  def __init__(self, parent, val):\n",
        "    self.parent = parent\n",
        "    self.val = val\n",
        "    self.child_dict = SortedDict()\n",
        "    self.child = []\n",
        "    self.sup = 0\n",
        "    self.candidate = True\n",
        " \n",
        "  def get_parent(self):\n",
        "    return self.parent\n",
        " \n",
        "  def get_val(self):\n",
        "    return self.val\n",
        " \n",
        "  def get_sup(self):\n",
        "    return self.sup\n",
        " \n",
        "  def set_sup(self):\n",
        "    self.sup = -1\n",
        " \n",
        "  def inc_sup(self):\n",
        "    self.sup += 1\n",
        " \n",
        "  def is_candidate(self):\n",
        "    return self.candidate\n",
        " \n",
        "  def negate_candidate(self):\n",
        "    self.candidate = False\n",
        " \n",
        "  def insert_child(self, node):\n",
        "    cnt = len(self.child_dict)\n",
        "    self.child_dict[node.get_val()] = cnt + 1\n",
        "    self.child.append(node)\n",
        "    return cnt + 1\n",
        " \n",
        "  def delete_child(self, node):\n",
        "    # print(1)\n",
        "    idx = self.child_dict[node.get_val()]\n",
        "    del self.child_dict[node.get_val()]\n",
        "    for c in self.child_dict:\n",
        "      if c > node.get_val():\n",
        "        self.child_dict[c] -= 1\n",
        "    self.child.pop(idx-1)"
      ],
      "execution_count": null,
      "outputs": []
    },
    {
      "cell_type": "code",
      "metadata": {
        "id": "bS4bKtr1RZBG"
      },
      "source": [
        "class trie:\n",
        "  def __init__(self, root, answer, candidate_itemset):\n",
        "    self.root = root\n",
        "    self.answer = answer\n",
        "    self.candidate_itemset = candidate_itemset\n",
        " \n",
        "    for itemset in candidate_itemset:\n",
        "      cur_node = root\n",
        "      for item in itemset:\n",
        "        if item in cur_node.child_dict:\n",
        "          idx = cur_node.child_dict[item]\n",
        "          cur_node = cur_node.child[idx-1]\n",
        "        else:\n",
        "          child_node = Node(cur_node, item)\n",
        "          idx = cur_node.insert_child(child_node)\n",
        "          cur_node = cur_node.child[idx-1]\n",
        " \n",
        " \n",
        "  def insert(self, parent, node):\n",
        "    parent.insert_child(node)\n",
        " \n",
        "  def delete(self, node):\n",
        "    parent = node.get_parent()\n",
        "    # print(parent.get_val())\n",
        "    if not parent == None:\n",
        "      parent.delete_child(node)\n",
        " \n",
        "  def get_answer(self):\n",
        "    return self.answer"
      ],
      "execution_count": null,
      "outputs": []
    },
    {
      "cell_type": "code",
      "metadata": {
        "id": "-ibOqHMGDry7"
      },
      "source": [
        "def print_path(node, string):\n",
        "  if len(node.child) == 0 :\n",
        "    print(string)\n",
        "    return\n",
        "  for child in node.child:\n",
        "    print_path(child, string + child.get_val())"
      ],
      "execution_count": null,
      "outputs": []
    },
    {
      "cell_type": "code",
      "metadata": {
        "id": "AZu9yoKORRj1"
      },
      "source": [
        "def update_tree(node, string, min_sup, itemset_2, bucket):\n",
        "  if len(node.child) == 0 :\n",
        "    if node.get_sup() >= min_sup :\n",
        "      itemset_2.add(string)\n",
        "    else:\n",
        "      node.set_sup()\n",
        "      # print(node.get_parent().get_val())\n",
        "      bucket.append(node)\n",
        "    return\n",
        "  flag = False\n",
        "  for child in node.child:\n",
        "    update_tree(child, string + child.get_val(), min_sup, itemset_2, bucket)\n",
        "    if not child.get_sup() == -1:\n",
        "      flag = True\n",
        "  if not flag:\n",
        "    node.set_sup()\n",
        "    bucket.append(node)\n"
      ],
      "execution_count": null,
      "outputs": []
    },
    {
      "cell_type": "code",
      "metadata": {
        "id": "w9k4rECSyxGL"
      },
      "source": [
        "def generate_candidate_2(itemset_1):\n",
        "  cnt = len(itemset_1)\n",
        "  print(cnt)\n",
        "  answer = SortedSet()\n",
        "  for i in range(cnt):\n",
        "    for j in range(i+1,cnt):\n",
        "      str = itemset_1[i] + itemset_1[j]\n",
        "      answer.add(str)\n",
        "  return answer"
      ],
      "execution_count": null,
      "outputs": []
    },
    {
      "cell_type": "code",
      "metadata": {
        "id": "qRqTR15Vbxa0"
      },
      "source": [
        "def generate_candidate(cur_node):\n",
        "  for child in cur_node.child:\n",
        "    if len(child.child) == 0:\n",
        "      cnt = len(cur_node.child)\n",
        "      for i in range(cnt):\n",
        "        for j in range(i+1,cnt):\n",
        "          new_node = Node(cur_node.child[i], cur_node.child[j].get_val())\n",
        "          cur_node.child[i].insert_child(new_node)\n",
        "      break\n",
        "    else:\n",
        "      generate_candidate(child)\n"
      ],
      "execution_count": null,
      "outputs": []
    },
    {
      "cell_type": "code",
      "metadata": {
        "id": "COy3-5mf84rX"
      },
      "source": [
        "def remove_non_candidate(node, cur_level, level, bucket):\n",
        "  if len(node.child) == 0:\n",
        "    if cur_level < level:\n",
        "      bucket.append(node)\n",
        "      node.negate_candidate()\n",
        "    return\n",
        "  flag = True\n",
        "  for child in node.child:\n",
        "    remove_non_candidate(child, cur_level + 1, level, bucket)\n",
        "    if child.is_candidate():\n",
        "      flag = False\n",
        "  \n",
        "  if flag:\n",
        "    bucket.append(node)\n",
        "    node.negate_candidate()"
      ],
      "execution_count": null,
      "outputs": []
    },
    {
      "cell_type": "code",
      "metadata": {
        "id": "qtIVXKajJ-PQ"
      },
      "source": [
        "# def find_sup(itemset, idx, node):\r\n",
        "#   for item in itemset[idx:len(itemset)]:\r\n",
        "#     if item in node.child_dict:\r\n",
        "#       dict_idx = node.child_dict[item]\r\n",
        "#       find_sup(itemset, itemset.index(item) + 1, node.child[dict_idx - 1])\r\n",
        "\r\n",
        "def find_sup(itemset, node):\r\n",
        "  if len(node.child) == 0:\r\n",
        "    node.inc_sup()\r\n",
        "    return\r\n",
        "  for child in node.child:\r\n",
        "    val = child.get_val()\r\n",
        "    if val in itemset and (itemset.index(val) + 1 < len(itemset)):\r\n",
        "      find_sup(itemset[itemset.index(val) + 1:], child)\r\n",
        "\r\n"
      ],
      "execution_count": null,
      "outputs": []
    },
    {
      "cell_type": "code",
      "metadata": {
        "id": "XNw51E3bl58F"
      },
      "source": [
        "f = open('Sample_Transactions','r')\n",
        "itemset_1 = SortedSet()\n",
        "itemset_2 = SortedSet()\n",
        "mp = dict()\n",
        "answer = dict()\n",
        "transactions = []\n",
        "bucket = []\n",
        "sup_cnt = 3"
      ],
      "execution_count": null,
      "outputs": []
    },
    {
      "cell_type": "code",
      "metadata": {
        "id": "QFDBQ4QmmMPS"
      },
      "source": [
        "for transaction in f:\n",
        "  transactions.append(transaction)\n",
        "  itemset = re.split(',|\\n',transaction)\n",
        "  # print(2)\n",
        "  # print(itemset)\n",
        "  for item in itemset:\n",
        "    if not item == '':\n",
        "      if item in mp:\n",
        "        mp[item] += 1\n",
        "      else:\n",
        "        mp[item] = 1"
      ],
      "execution_count": null,
      "outputs": []
    },
    {
      "cell_type": "code",
      "metadata": {
        "id": "6fzdJMKNmS2Z"
      },
      "source": [
        "for item in mp:\n",
        "  if mp[item] >= sup_cnt:\n",
        "    itemset_1.add(item)\n",
        "\n",
        "answer[1] = itemset_1\n"
      ],
      "execution_count": null,
      "outputs": []
    },
    {
      "cell_type": "code",
      "metadata": {
        "id": "-6XY0WAY7k5V"
      },
      "source": [
        ""
      ],
      "execution_count": null,
      "outputs": []
    },
    {
      "cell_type": "code",
      "metadata": {
        "colab": {
          "base_uri": "https://localhost:8080/"
        },
        "id": "Rcn5GLKOk2gR",
        "outputId": "b06e1b36-c096-403d-f199-f44b5ccf6c81"
      },
      "source": [
        "candidate_itemset_2 = generate_candidate_2(itemset_1)"
      ],
      "execution_count": null,
      "outputs": [
        {
          "output_type": "stream",
          "text": [
            "6\n"
          ],
          "name": "stdout"
        }
      ]
    },
    {
      "cell_type": "code",
      "metadata": {
        "id": "onojEc3jrDqA"
      },
      "source": [
        "# print(candidate_itemset_2)\n",
        "root = Node(None, None)\n",
        "tree = trie(root, answer, candidate_itemset_2)"
      ],
      "execution_count": null,
      "outputs": []
    },
    {
      "cell_type": "code",
      "metadata": {
        "id": "6VxhcuLv1EjP"
      },
      "source": [
        "# print(len(candidate_itemset_2))\r\n",
        "# for transaction in transactions:\r\n",
        "#   itemset = re.split(',|\\n',transaction)\r\n",
        "#   find_sup(itemset, root)"
      ],
      "execution_count": null,
      "outputs": []
    },
    {
      "cell_type": "code",
      "metadata": {
        "colab": {
          "base_uri": "https://localhost:8080/"
        },
        "id": "Ck3CJCZ5GN0E",
        "outputId": "211b758b-8d55-4132-9633-85007e70bafc"
      },
      "source": [
        "item_len = 2\n",
        "\n",
        "while True:\n",
        "  itemset_2 = SortedSet()\n",
        "  bucket = []\n",
        "  if(len(root.child) == 0):\n",
        "    break\n",
        "  for transaction in transactions:\n",
        "    itemset = re.split(',|\\n',transaction)\n",
        "    #Determine support count of candidates\n",
        "    find_sup(itemset, root)\n",
        "\n",
        "  print_path(root, \"\")\n",
        "  # collect candidates having support count below threshold\n",
        "  update_tree(root, \"\", sup_cnt, itemset_2, bucket)\n",
        "  #Delete collected candidates\n",
        "  for node in bucket:\n",
        "    # print(node.get_val())\n",
        "    tree.delete(node)\n",
        "  print_path(root, \"\")\n",
        "\n",
        "  print('itemlen ', item_len)\n",
        "  #store answer\n",
        "  answer[int(item_len)] = itemset_2\n",
        "\n",
        "  item_len += 1\n",
        "\n",
        "  print(answer)\n",
        "  #generate candidates for next level\n",
        "  generate_candidate(root)\n",
        "  print_path(root, \"\")\n",
        "  bucket.clear()\n",
        "\n",
        "  #remove nodes that are below the current level\n",
        "  remove_non_candidate(root, 0, item_len, bucket)\n",
        "  for node in bucket:\n",
        "    # print(node.get_val())\n",
        "    tree.delete(node)\n",
        "  print_path(root, \"\")\n",
        "\n",
        "  # itemset_2.clear()\n",
        "  # bucket.clear()"
      ],
      "execution_count": null,
      "outputs": [
        {
          "output_type": "stream",
          "text": [
            "ab\n",
            "ac\n",
            "af\n",
            "am\n",
            "ap\n",
            "bc\n",
            "bf\n",
            "bm\n",
            "bp\n",
            "cf\n",
            "cm\n",
            "cp\n",
            "fm\n",
            "fp\n",
            "mp\n",
            "ac\n",
            "af\n",
            "am\n",
            "cf\n",
            "cm\n",
            "cp\n",
            "fm\n",
            "itemlen  2\n",
            "{1: SortedSet(['a', 'b', 'c', 'f', 'm', 'p']), 2: SortedSet(['ac', 'af', 'am', 'cf', 'cm', 'cp', 'fm'])}\n",
            "acf\n",
            "acm\n",
            "afm\n",
            "am\n",
            "cfm\n",
            "cfp\n",
            "cmp\n",
            "cp\n",
            "fm\n",
            "acf\n",
            "acm\n",
            "afm\n",
            "cfm\n",
            "cfp\n",
            "cmp\n",
            "acf\n",
            "acm\n",
            "afm\n",
            "cfm\n",
            "cfp\n",
            "cmp\n",
            "acf\n",
            "acm\n",
            "afm\n",
            "cfm\n",
            "itemlen  3\n",
            "{1: SortedSet(['a', 'b', 'c', 'f', 'm', 'p']), 2: SortedSet(['ac', 'af', 'am', 'cf', 'cm', 'cp', 'fm']), 3: SortedSet(['acf', 'acm', 'afm', 'cfm'])}\n",
            "acfm\n",
            "acm\n",
            "afm\n",
            "cfm\n",
            "acfm\n",
            "acfm\n",
            "acfm\n",
            "itemlen  4\n",
            "{1: SortedSet(['a', 'b', 'c', 'f', 'm', 'p']), 2: SortedSet(['ac', 'af', 'am', 'cf', 'cm', 'cp', 'fm']), 3: SortedSet(['acf', 'acm', 'afm', 'cfm']), 4: SortedSet(['acfm'])}\n",
            "acfm\n",
            "\n"
          ],
          "name": "stdout"
        }
      ]
    },
    {
      "cell_type": "code",
      "metadata": {
        "id": "l6ykRqjRHWwH"
      },
      "source": [
        "# print_path(root, \"\")\r\n",
        "# update_tree(root, \"\", sup_cnt, itemset_2, bucket)\r\n",
        "# for node in bucket:\r\n",
        "#   # print(node.get_val())\r\n",
        "#   tree.delete(node)\r\n",
        "# print_path(root, \"\")\r\n",
        "# answer[2] = itemset_2"
      ],
      "execution_count": null,
      "outputs": []
    },
    {
      "cell_type": "code",
      "metadata": {
        "id": "mfbdi_tCrG_P"
      },
      "source": [
        "# print(answer)"
      ],
      "execution_count": null,
      "outputs": []
    },
    {
      "cell_type": "code",
      "metadata": {
        "id": "dL6DHN9_v1ph"
      },
      "source": [
        "# generate_candidate(root)\n",
        "# print_path(root, \"\")\n",
        "# bucket.clear()\n"
      ],
      "execution_count": null,
      "outputs": []
    },
    {
      "cell_type": "code",
      "metadata": {
        "id": "S4tpifPexTf-"
      },
      "source": [
        "# remove_non_candidate(root, 0, 3, bucket)\n",
        "# for node in bucket:\n",
        "#   # print(node.get_val())\n",
        "#   tree.delete(node)\n",
        "# print_path(root, \"\")"
      ],
      "execution_count": null,
      "outputs": []
    },
    {
      "cell_type": "code",
      "metadata": {
        "id": "_jqK8MV3_WmF"
      },
      "source": [
        ""
      ],
      "execution_count": null,
      "outputs": []
    }
  ]
}